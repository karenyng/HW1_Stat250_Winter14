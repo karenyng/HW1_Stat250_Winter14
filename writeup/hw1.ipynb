{
 "metadata": {
  "name": ""
 },
 "nbformat": 3,
 "nbformat_minor": 0,
 "worksheets": [
  {
   "cells": [
    {
     "cell_type": "markdown",
     "metadata": {},
     "source": [
      "Author: Karen Yin-Yee Ng <karenyng@ucdavis.edu>\n",
      "\n",
      "Stat 250 Winter 2014 with Prof. Duncan Temple Lang\n",
      "\n",
      "Assignment 1\n",
      "\n",
      "Written with an ipython notebook (v 1.1.0)\n"
     ]
    },
    {
     "cell_type": "code",
     "collapsed": false,
     "input": [
      "#%install_ext https://raw.github.com/minrk/ipython_extensions/master/extensions/nbtoc.py\n",
      "#%load_ext nbtoc\n",
      "%autosave 60"
     ],
     "language": "python",
     "metadata": {},
     "outputs": [
      {
       "javascript": [
        "IPython.notebook.set_autosave_interval(60000)"
       ],
       "metadata": {},
       "output_type": "display_data"
      },
      {
       "output_type": "stream",
       "stream": "stdout",
       "text": [
        "Autosaving every 60 seconds\n"
       ]
      }
     ],
     "prompt_number": 72
    },
    {
     "cell_type": "heading",
     "level": 1,
     "metadata": {},
     "source": [
      "Methods"
     ]
    },
    {
     "cell_type": "code",
     "collapsed": false,
     "input": [
      "#%nbtoc"
     ],
     "language": "python",
     "metadata": {},
     "outputs": [],
     "prompt_number": 73
    },
    {
     "cell_type": "markdown",
     "metadata": {},
     "source": [
      "We benchmark different approaches for computing the statistics of airline delays between 1987 and 2012. \n",
      "\n",
      "Design considerations, due to the large size of the data, we have to : \n",
      "\n",
      "*  avoid holding all the data in memory at same time but only want to extract the relevant data\n",
      "\n",
      "* avoid numerical instabilities \n",
      "\n",
      "* make it fast - avoid expensive operations such as making copies of data or I/O to hard disk\n",
      "\n",
      "    * may want to make it parallelizable depending on performance\n",
      "    \n",
      "Other possible consideration if this was made into a production code: \n",
      "\n",
      "* extensibility\n",
      "\n",
      "Major consideration if this is to be used once .........\n",
      "\n",
      "* minimizing development time "
     ]
    },
    {
     "cell_type": "heading",
     "level": 1,
     "metadata": {},
     "source": [
      "Exact approach 1"
     ]
    },
    {
     "cell_type": "heading",
     "level": 3,
     "metadata": {},
     "source": [
      "frequency table approach using the shell & R (or item 5) "
     ]
    },
    {
     "cell_type": "markdown",
     "metadata": {},
     "source": [
      "Pros: \n",
      "\n",
      "* development time is faster than using any of the compiled language \n",
      "( other than probably python for me)\n",
      "* one of the shortest implementation in terms of lines of code\n",
      "* no fancy algorithms are needed \n",
      "* good for prototyping which is what usually people do in industry\n",
      "* super cool that the shell can do so much stuff so fast with so little code\n",
      "\n",
      "Cons:\n",
      "\n",
      "* runtime may be slower than using pure compiled language for doing string manipulation \n",
      "* the computation of the frequency table is not the most parallelizble\n",
      "* some implementation for fetching column values were hackish - not very extensible\n",
      "* a lot of the parameters are hard coded\n",
      "* not a good production / extensible code due to the above cons \n",
      "\n",
      "Other thoughts about implementation:\n",
      "\n",
      "Not going to write the code in the most general / extensible / parallelizable way but I focus on getting an estimate of the answer from this first method\n",
      "\n",
      "I usually write code as functions and use OOP concepts but I don't have time for this.\n"
     ]
    },
    {
     "cell_type": "heading",
     "level": 2,
     "metadata": {},
     "source": [
      "Shell scripting part"
     ]
    },
    {
     "cell_type": "markdown",
     "metadata": {},
     "source": [
      "Observation: there are two types of files with two different headers. \n",
      "\n",
      "* month-by-month csv  \n",
      "* year-by-year csv\n",
      "\n",
      "\n"
     ]
    },
    {
     "cell_type": "markdown",
     "metadata": {},
     "source": [
      "extracting columns from the csv files is quite straight forward except that, in the month-by-month csv, there are some values with \",\" in them, making the naive use of cut with \",\" as delimiter fail to fetch the correct column. My quick and dirty solution is to increment the column number count by 2 as a correction.\n",
      "\n"
     ]
    },
    {
     "cell_type": "heading",
     "level": 3,
     "metadata": {},
     "source": [
      "Manual testing"
     ]
    },
    {
     "cell_type": "markdown",
     "metadata": {},
     "source": [
      "\n",
      "I made sure that the functions work on individual files before looping them over more files.\n",
      "Test codes are called 'exam_col.sh' and 'test.ipynb' \n"
     ]
    },
    {
     "cell_type": "heading",
     "level": 3,
     "metadata": {},
     "source": [
      "Other possible tests that I do not have time for: "
     ]
    },
    {
     "cell_type": "markdown",
     "metadata": {},
     "source": [
      "* output all the headers of the year-by-year csv and month-by-month csv and make sure there are no variety within each type of csv\n",
      "\n",
      "Also, on second thought I should have written a test code, using python or R to write out mean, median and standard deviation for each of the csv files.\n",
      "\n",
      "Then also use my code to write output of same format.\n",
      "Then just use diff in the shell to check if there is any differences to check for as many possible exceptional cases as possible.\n",
      "\n",
      "Now I'm just manually comparing statistics of individual files / writing out fake data for testing.\n",
      "\n",
      "I really should have done a better job planning for unit tests ......"
     ]
    },
    {
     "cell_type": "heading",
     "level": 2,
     "metadata": {},
     "source": [
      "R part - computing the statistics"
     ]
    },
    {
     "cell_type": "markdown",
     "metadata": {},
     "source": [
      "When I write in a scripting language, I usually \n",
      "\n",
      "* keep code short \n",
      "* avoid loops and use vectorized operations \n",
      "\n",
      "Since R is not particularly strong in string manipulation or \"developers of R did not have string manipulation in mind when they designed R\" (Temple Lang 2014), I try to keep all string operations within the shell script."
     ]
    },
    {
     "cell_type": "heading",
     "level": 3,
     "metadata": {},
     "source": [
      "Considerations for preventing numerical inaccuracies with the frequency table approach:"
     ]
    },
    {
     "cell_type": "markdown",
     "metadata": {},
     "source": [
      "To get a sense of the order of magnitude of the numbers that we are computing : \n",
      "\n",
      "* total unique frequency count is $\\omega_{total} \\sim 10^8$\n",
      "* range of the delay time around [-1437, 2598]\n",
      "* all delay time are integers which simplifies that problem by a lot \n",
      "* precision requirement is lax (up to one minute - I will report the answer with one or two more decimal places at most or else we are over confident about the precision of the data)\n",
      "\n",
      "Of course these stats are obtained after I have run them through my scripts.\n",
      "On second thought I should have find/guesstimate the properties of the data before deciding on what languages / tools to use for this homework.\n",
      "\n",
      "For R, \n",
      "\n",
      "* the maximum value that an integer can hold is $\\sim 10^9$, and \n",
      "* double can hold much larger integer $\\sim 10^{308}$ and is the default R data type for numbers\n",
      "* Machine precision for double is $\\sim 10^{-16}$. \n",
      "\n",
      "Since R uses double for storing the ArrDelay field by default and data take integer form, we really shouldn't have to worry too much about numerical inaccuracies like overflow (when summing number), underflow (dividing by large number) or cancellation error (subtraction). I argue we do not need more rigorous algorithms in the world for just computing the statistics of ArrDelay with the frequency table approach. If we compute the statistics with other methods, we may have to worry more, especially when computing the standard deviation."
     ]
    },
    {
     "cell_type": "heading",
     "level": 4,
     "metadata": {},
     "source": [
      "Computing the mean:"
     ]
    },
    {
     "cell_type": "markdown",
     "metadata": {},
     "source": [
      "danger of loss of accuracies of this naive formula???\n",
      "\n",
      "$$ \\bar{t} = \\frac{ \\sum_i^n (t_i ~\\omega_i)}{\\omega_{total}}$$\n",
      "\n",
      "where  $t_i$ denotes the delay time $\\omega_i $ denotes the corresponding count for that $t_i$.\n",
      "Numerator may overflow if we are just summing a bunch of positive numbers that are too large, but some of the numbers in the summation are negative.\n"
     ]
    },
    {
     "cell_type": "markdown",
     "metadata": {},
     "source": [
      "As a safety precaution I will compute the mean using \n",
      "\n",
      "$$ \\bar{t} =  \\sum_i^n \\frac{(t_i ~\\omega_i)}{\\omega_{total}}$$\n",
      "\n",
      "Note $t_i, w_i \\ll w_{total}$, by multiplying before dividing, there shouldn't be any underflow problems. \n",
      "And also I am using the default R sum() method which uses partial sums so I think it should be accurate enough.\n"
     ]
    },
    {
     "cell_type": "heading",
     "level": 4,
     "metadata": {},
     "source": [
      "Computing the std. dev.:"
     ]
    },
    {
     "cell_type": "markdown",
     "metadata": {},
     "source": [
      "After reading John Cook 's entry I decide to use an adapted version of the two-pass\n",
      "formula because \n",
      "\n",
      "* I have already computed total frequency\n",
      "* it is not less accurate\n",
      "* I can write vectorized code instead of using Welford's recursive formula in R (looping is slow and recursion performance may be worse than looping)\n",
      "\n",
      "$$s = \\sqrt{\\sum_i^n \\frac{w_i}{w_{total}}(t_i - \\bar{t})^2} $$  "
     ]
    },
    {
     "cell_type": "heading",
     "level": 4,
     "metadata": {},
     "source": [
      "Computing the median:"
     ]
    },
    {
     "cell_type": "markdown",
     "metadata": {},
     "source": [
      "I tested total frequency count is odd or even to avoid grabbing the wrong median.\n"
     ]
    },
    {
     "cell_type": "heading",
     "level": 2,
     "metadata": {},
     "source": [
      "Results of method 1 :"
     ]
    },
    {
     "cell_type": "markdown",
     "metadata": {},
     "source": [
      "> mean = 6.(566504) min\n",
      "\n",
      "> median = 0.(00000) min \n",
      "\n",
      "> standard deviation = 31.(556326) min \n",
      "\n",
      "should probably just report up to 1 or 2 significant figure(s).\n"
     ]
    },
    {
     "cell_type": "markdown",
     "metadata": {},
     "source": [
      "......eyeballing if answer make sense by plotting the frequency counts\n",
      "Maybe I should have made bar plots but I am just trying to quickly visualize this.\n",
      "\n",
      "Being able to visualize the results is a great strength of the frequency table approach\n"
     ]
    },
    {
     "cell_type": "code",
     "collapsed": false,
     "input": [
      "import pandas as pd\n",
      "import matplotlib.pyplot"
     ],
     "language": "python",
     "metadata": {},
     "outputs": [],
     "prompt_number": 74
    },
    {
     "cell_type": "code",
     "collapsed": false,
     "input": [
      "# somehow pandas has trouble reading the sorted frequency table\n",
      "a = pd.read_table(\"sorted_freq.txt\", names = ['col']) \n",
      "c = []\n",
      "for i in range(a.shape[0]):\n",
      "    b = a['col'][i].split()\n",
      "    if (len(b) == 2):\n",
      "        if (b[1] != 'NA') and (b[1]!='ArrDelay'):\n",
      "            c.append([float(b[0]), float(b[1])])\n",
      "c = np.array(c).transpose()\n",
      "\n",
      "delay = c[1]\n",
      "freq = c[0]"
     ],
     "language": "python",
     "metadata": {},
     "outputs": [],
     "prompt_number": 75
    },
    {
     "cell_type": "code",
     "collapsed": false,
     "input": [
      "plt.plot(delay, freq, '.b')\n",
      "plt.xlabel('Delay time (min)', size=14)\n",
      "plt.ylabel('Frequency', size=14)\n",
      "xlim_low = -100\n",
      "xlim_high = 100\n",
      "plt.title('Truncated view of frequency table from'+\\\n",
      "          '{0} to {1}'.format(xlim_low, xlim_high), size=15)\n",
      "\n",
      "plt.xlim(xlim_low, xlim_high)\n",
      "plt.axvline('6.566504', label = 'mean', color = 'r', ls = ':', lw = 3 )\n",
      "plt.axvline('0.00', label = 'median', color = 'g', ls = '--', lw = 3 )\n",
      "plt.legend(loc = 'best')"
     ],
     "language": "python",
     "metadata": {},
     "outputs": [
      {
       "metadata": {},
       "output_type": "pyout",
       "prompt_number": 76,
       "text": [
        "<matplotlib.legend.Legend at 0x9289510>"
       ]
      },
      {
       "metadata": {},
       "output_type": "display_data",
       "png": "[encoded data removed]",
       "text": [
        "<matplotlib.figure.Figure at 0x7cf4590>"
       ]
      }
     ],
     "prompt_number": 76
    },
    {
     "cell_type": "code",
     "collapsed": false,
     "input": [
      "plt.plot(delay, freq, '.b')\n",
      "plt.xlabel('Delay time (min)', size=14)\n",
      "plt.ylabel('Frequency', size=14)\n",
      "xlim_low = -100\n",
      "xlim_high = 100\n",
      "plt.title('Total view of frequency table', size=15)\n",
      "plt.axvline('6.566504', label = 'mean', color = 'r', ls = ':', lw = 3)\n",
      "plt.axvline('0.00', label = 'median', color = 'g', ls = '--', lw = 3 )\n",
      "plt.legend(loc = 'best')"
     ],
     "language": "python",
     "metadata": {},
     "outputs": [
      {
       "metadata": {},
       "output_type": "pyout",
       "prompt_number": 77,
       "text": [
        "<matplotlib.legend.Legend at 0x93d5690>"
       ]
      },
      {
       "metadata": {},
       "output_type": "display_data",
       "png": "[encoded data removed]",
       "text": [
        "<matplotlib.figure.Figure at 0x9157c10>"
       ]
      }
     ],
     "prompt_number": 77
    },
    {
     "cell_type": "markdown",
     "metadata": {},
     "source": [
      "It makes sense that the mean is slightly positive which is explained by the longer tail on the positive end.\n",
      "\n",
      "It also makes sense that the median could be at zero, the positive tail is offset by the taller and fatter peak on the negative end if you look at the truncated plot.\n",
      "\n",
      "Standard deviation is also plausible given the long tails."
     ]
    },
    {
     "cell_type": "heading",
     "level": 2,
     "metadata": {},
     "source": [
      "Computation time: ~5 mins"
     ]
    },
    {
     "cell_type": "markdown",
     "metadata": {},
     "source": [
      "This is probably not the fastest approach in terms of CPU time. \n",
      "\n",
      "Possible improvement in the bash script: the bash script grabs the columns from different csv and write them all out to a big file before sorting then counting frequencies. \n",
      "I expect the I/O to hard disk to be one of the bigger bottlenecks.\n",
      "Dynamic arrays in the shell can be used to remedy this but I am not familiar how bash handles the memory for growing array to comment on if it will not use up a lot of memory.\n",
      "\n",
      "Also the computation of the frequency table is also a place for possible improvements. Currently I have sorted all the 500 MB of ArrDelay column data before using \"uniq\" to compute the frequency table. If we can implement a fast hashing method then we might be able to avoid holding all 500MB of data. Even though 500 MB data should not be a limiting factor for even laptop as old as 5 years old but if the data is bigger than this is not an extensible solution.\n"
     ]
    },
    {
     "cell_type": "heading",
     "level": 2,
     "metadata": {},
     "source": [
      "Memory usage: "
     ]
    },
    {
     "cell_type": "markdown",
     "metadata": {},
     "source": [
      "Negligible amount of swap was used as far as I am concerned"
     ]
    },
    {
     "cell_type": "markdown",
     "metadata": {},
     "source": [
      "\n"
     ]
    },
    {
     "cell_type": "heading",
     "level": 1,
     "metadata": {},
     "source": [
      "Exact Method 2: Python with Pandas and Numpy (calling compiled code from python)"
     ]
    },
    {
     "cell_type": "heading",
     "level": 2,
     "metadata": {},
     "source": [
      "Background:"
     ]
    },
    {
     "cell_type": "markdown",
     "metadata": {},
     "source": [
      "\n",
      "This implementation is probably the most straight forward with only around 47 lines.\n",
      "\n",
      "Python pandas is a data analysis python package that imitates R syntax and it has a C backend highly optimized for speed.\n",
      "I took a quick look at the relevant source code on github. \n",
      "The relevant C / Cython code are scattered in mainly in \n",
      "<https://github.com/pydata/pandas/tree/master/pandas>\n",
      "and <https://github.com/pydata/pandas/tree/master/pandas/src>\n",
      "\n",
      "The actual \"python\" implementation of the read.csv function looks like it is mostly in Python:\n",
      "<https://github.com/pydata/pandas/blob/master/pandas/io/parsers.py>\n",
      "BUT, it is naive to think the read.csv function is really written in python since it parses a bunch of C libraries to replace original Python parts.\n",
      "For example the imported pandas.lib <https://github.com/pydata/pandas/blob/master/pandas/lib.pyx>\n",
      "seems to replace the python data variables such as integers, nans, infs with C variables and make calls to C standard libraries.\n",
      "\n",
      "here 's an excerpt of parsers.py where the calls to wrapped libraries are made: "
     ]
    },
    {
     "cell_type": "markdown",
     "metadata": {},
     "source": [
      "\n",
      "    import pandas.lib as lib\n",
      "    import pandas.tslib as tslib\n",
      "    import pandas.parser as _parser\n"
     ]
    },
    {
     "cell_type": "heading",
     "level": 3,
     "metadata": {},
     "source": [
      "What my code does:"
     ]
    },
    {
     "cell_type": "markdown",
     "metadata": {},
     "source": [
      "* loop over all the csv files , extracting only relevant column\n",
      "* first extract columns of the year-by-year csv into one pandas dataframe then the month-by-month csv into another pandas dataframe\n",
      "* remove the \"column name\" of each dataframe by turning them to numpy arrays\n",
      "* concatenate them together using numpy.append() -- this is NOT slow since Python libraries pass most objects by reference not by value\n",
      "* convert them back to pandas dataframe since a dataframe can handle nan values automatically, numpy array handles nan more clumsily\n",
      "* call existing methods of pandas dataframe to compute mean, median and standard deviation\n",
      "\n"
     ]
    },
    {
     "cell_type": "markdown",
     "metadata": {},
     "source": [
      "Pros of this method: \n",
      "\n",
      "* short and simple \n",
      "* fast \n",
      "* extensible - pandas can do subsetting and group by and apply functions very easily, and also handles NA among other things. If you want a different field you can just grab that column by changing the script by one variable.\n",
      "\n",
      "Cons of this method: \n",
      "\n",
      "* most of the code is hidden away from me so if pandas developer has a bug somewhere it is harder for me to debug but it is doable since pandas uses a BSD license so I can fix the bug myself by downloading it\n",
      "* code compatibility of future pandas version is at the mercy of pandas developers -- I better document exactly the version I am using in case pandas change drastically in the future"
     ]
    },
    {
     "cell_type": "heading",
     "level": 3,
     "metadata": {},
     "source": [
      "Tests of the code"
     ]
    },
    {
     "cell_type": "markdown",
     "metadata": {},
     "source": [
      "* informative with print statements\n",
      "* results agree with first method"
     ]
    },
    {
     "cell_type": "heading",
     "level": 2,
     "metadata": {},
     "source": [
      "Runtime of method 2: ~3.1 min"
     ]
    },
    {
     "cell_type": "markdown",
     "metadata": {},
     "source": [
      " user  system elapsed\n",
      " 89.872  16.604 185.723"
     ]
    },
    {
     "cell_type": "heading",
     "level": 1,
     "metadata": {},
     "source": [
      "Method 3 - Approximate approach using FastCSVSample"
     ]
    },
    {
     "cell_type": "heading",
     "level": 3,
     "metadata": {},
     "source": [
      "Background"
     ]
    },
    {
     "cell_type": "markdown",
     "metadata": {},
     "source": [
      "The idea is to reduce the amount of data to be analyzed by sampling uniformly across all the csv files using https://github.com/duncantl/FastCSVSample\n",
      "\n",
      "Therefore in the coding process, it is important to ensure the (almost) same percentages of lines are sampled from each csv file. Since I do not usually do sampling as a physics student I would like to see what percentage of lines I need to sample in order to get results close to the exact method. "
     ]
    },
    {
     "cell_type": "heading",
     "level": 3,
     "metadata": {},
     "source": [
      "Design considerations:"
     ]
    },
    {
     "cell_type": "markdown",
     "metadata": {},
     "source": [
      "Total number of valid lines in all the files $\\sim 1.3 \\times 10^8$\n",
      "so if we just sample $1\\%$ of the lines, we still have to go over $\\sim 10^6$ lines. My patience runs out for a computation that takes more than half an hour so let's see how we well we need to do on the speed for me not to explode due to impatience:"
     ]
    },
    {
     "cell_type": "code",
     "collapsed": false,
     "input": [
      "print 'each line should at most take '+\\\n",
      "'{0}s'.format( 30 * 60 / (1e6))"
     ],
     "language": "python",
     "metadata": {},
     "outputs": [
      {
       "output_type": "stream",
       "stream": "stdout",
       "text": [
        "each line should at most take 0.0018s\n"
       ]
      }
     ],
     "prompt_number": 78
    },
    {
     "cell_type": "markdown",
     "metadata": {},
     "source": [
      "And that is a long time for the computation of each line--- good sign to reassure myself that I am going to finish this on time... "
     ]
    },
    {
     "cell_type": "markdown",
     "metadata": {},
     "source": [
      "the R functions for grabbing column and removing NaNs only takes $10\\mu~s$\n",
      "\n",
      "This is similar to method 1 but then the number of lines should be even fewer, so I expect the total runtime to be less than 5 mins unless I write some loops that are awfully slow."
     ]
    },
    {
     "cell_type": "heading",
     "level": 3,
     "metadata": {},
     "source": [
      "How to compute the statistics for this method:"
     ]
    },
    {
     "cell_type": "markdown",
     "metadata": {},
     "source": [
      "It is ok to hold all the sampled lines in memory $500MB \\times 1\\% \\approx 5MB$ and just use R default mean, median and standard deviation function.\n",
      "\n",
      "So I will just piece all the sampled lines into one big list (or whatever R object it is) then use default functions. "
     ]
    },
    {
     "cell_type": "heading",
     "level": 3,
     "metadata": {},
     "source": [
      "Other options ... "
     ]
    },
    {
     "cell_type": "markdown",
     "metadata": {},
     "source": [
      "do statistics completely on the run so only have to go through the files only once: "
     ]
    },
    {
     "cell_type": "markdown",
     "metadata": {},
     "source": [
      "* first pass through the data -> use recurrence formale provided by Duncan for the mean and standard deviation \n",
      "\n",
      "* for the median, use selection algorithm"
     ]
    },
    {
     "cell_type": "markdown",
     "metadata": {},
     "source": [
      "but I really want to avoid writing loops in R ............"
     ]
    },
    {
     "cell_type": "heading",
     "level": 3,
     "metadata": {},
     "source": [
      "(Manual) Tests "
     ]
    },
    {
     "cell_type": "markdown",
     "metadata": {},
     "source": [
      "* sample all the lines in 2008_May.csv and 1987.csv respectively and see if output agrees with exact approach --- and they agree! "
     ]
    },
    {
     "cell_type": "heading",
     "level": 2,
     "metadata": {},
     "source": [
      "Result"
     ]
    },
    {
     "cell_type": "markdown",
     "metadata": {},
     "source": [
      ">mean   = 6.(591345) min       \n",
      ">median = 0.(000000) min    \n",
      ">sd =    31.(465116) min\n",
      "\n",
      "Sampling only 1% of the lines give results good up to 2 significant figures."
     ]
    },
    {
     "cell_type": "heading",
     "level": 2,
     "metadata": {},
     "source": [
      "Dependencies of the codes"
     ]
    },
    {
     "cell_type": "markdown",
     "metadata": {},
     "source": [
      "* move all the csv files inside the data directory\n",
      "* R version 3.0.2 (2013-09-25) -- \"Frisbee Sailing\" (method 1 & 3)\n",
      "* Python v. 2.7.4, numpy v.1.7.1, pandas v.0.10.1 (method 2)\n",
      "* a forked R package \"NotSoFastCSVSample\" "
     ]
    },
    {
     "cell_type": "heading",
     "level": 2,
     "metadata": {},
     "source": [
      "How to call the codes for different methods:"
     ]
    },
    {
     "cell_type": "markdown",
     "metadata": {},
     "source": [
      "Rscript \"PATH TO GIT DIR\"/methodN.R"
     ]
    },
    {
     "cell_type": "markdown",
     "metadata": {},
     "source": [
      "replace N with the method number."
     ]
    },
    {
     "cell_type": "heading",
     "level": 1,
     "metadata": {},
     "source": [
      "Machine specification:"
     ]
    },
    {
     "cell_type": "markdown",
     "metadata": {},
     "source": [
      "* Corsair Vengeance 2x8GB DDR3 1600 MHz Desktop Memory, \n",
      "* Intel(R) Core(TM) i7-4770K CPU @ 3.50GHz, <http://www.cpubenchmark.net/cpu.php?cpu=Intel+Core+i7-4770K+%40+3.50GHz&id=1919>\n",
      "* GeForce GTX 770 SuperClocked\n",
      "* Samsung 840 Pro 256 GB SSD\n",
      "* Motherboard: Asus Z87-Deluxe DDR3 1600 LGA 1150 \n",
      "* Linux Mint 15 Olivia (GNU/Linux 3.8.0-19-generic x86_64)\n",
      "\n",
      "\n",
      "Thanks to an anonymous physicist in Portland who has kindly allowed me to use his gaming desktop for the computing of this homework. He helped me repair the partition table to my Linux partition and installed a HDD for use."
     ]
    },
    {
     "cell_type": "heading",
     "level": 1,
     "metadata": {},
     "source": [
      "Discussion"
     ]
    },
    {
     "cell_type": "heading",
     "level": 2,
     "metadata": {},
     "source": [
      "Comparison of results of different methods"
     ]
    },
    {
     "cell_type": "code",
     "collapsed": false,
     "input": [
      "y = [1, 2, 3]\n",
      "result1 = [6.566504, 0.00000, 31.556326]\n",
      "result2 = [6.56650421703, 0.0, 31.5563262623]\n",
      "result3 = [6.591345,  0.000000, 31.465116]\n",
      "\n",
      "plt.plot(result1, y, 'rs', markeredgewidth=1, \n",
      "         alpha = .25, markersize = 10, label=\"Method 1\")\n",
      "plt.plot(result2, y, 'gx', markeredgewidth=3, \n",
      "         alpha = .25, markersize = 10, label=\"Method 2\")\n",
      "plt.plot(result3, y, 'b*', markeredgewidth=1, \n",
      "         alpha = .25, markersize = 10, label=\"Method 3\")\n",
      "\n",
      "plt.legend(loc='lower right')\n",
      "plt.title('Comparison of statistics from different approaches', size = 15)\n",
      "label = ['mean', 'median', 'std. dev',]\n",
      "plt.yticks( y, label, size = 15)\n",
      "plt.margins(0.2)\n",
      "plt.xlabel('Arrival delay (min)', size = 15)"
     ],
     "language": "python",
     "metadata": {},
     "outputs": [
      {
       "metadata": {},
       "output_type": "pyout",
       "prompt_number": 87,
       "text": [
        "<matplotlib.text.Text at 0x98958d0>"
       ]
      },
      {
       "metadata": {},
       "output_type": "display_data",
       "png": "[encoded data removed]",
       "text": [
        "<matplotlib.figure.Figure at 0x92740d0>"
       ]
      }
     ],
     "prompt_number": 87
    },
    {
     "cell_type": "markdown",
     "metadata": {},
     "source": [
      "No idea how to make the plot above better, the differences of the data points are too small to be noticible"
     ]
    },
    {
     "cell_type": "code",
     "collapsed": false,
     "input": [
      "plt.title('Comparison of runtime of different methods', size = 16)\n",
      "\n",
      "y = [1, 2, 3]\n",
      "time_taken = [282.900/60., 181.094/60., 269.420/60.] \n",
      "\n",
      "plt.plot(time_taken, x, 'o')\n",
      "label = ['Freq table - Shell + R ', 'Python Pandas', 'FastCSVSample + R',]\n",
      "plt.yticks( y, label, size = 12)\n",
      "plt.margins(0.2)\n",
      "plt.xlim(0,6)\n",
      "plt.xlabel('Wall clock time (min)', size = 15)"
     ],
     "language": "python",
     "metadata": {},
     "outputs": [
      {
       "metadata": {},
       "output_type": "pyout",
       "prompt_number": 80,
       "text": [
        "<matplotlib.text.Text at 0x94f7390>"
       ]
      },
      {
       "metadata": {},
       "output_type": "display_data",
       "png": "[encoded data removed]",
       "text": [
        "<matplotlib.figure.Figure at 0x89ecf10>"
       ]
      }
     ],
     "prompt_number": 80
    },
    {
     "cell_type": "heading",
     "level": 2,
     "metadata": {},
     "source": [
      "Relevant packages for R that can also extract specific columns from a csv file:"
     ]
    },
    {
     "cell_type": "markdown",
     "metadata": {},
     "source": [
      "After googling around it seems like there are also packages in R that can read csv files with specified columns.\n",
      "Such as: \n",
      "\n",
      "* colbycol on CRAN \n",
      "* limma on Bioconductor\n",
      "\n",
      "So it is possible to do the computation purely in R without having to use the shell.\n",
      "It would be interesting to compare the speeds between a \"pure R\" implementation with these packages vs the \"pure Python\" implementation with pandas and numpy. It concerns me that R seems to pass by value if I try to use the same approach as my python code to append the data frames. The memory usage will definitely be more than my python implementation. Or maybe I will just have to adapt the R version in a different style than my python code."
     ]
    },
    {
     "cell_type": "heading",
     "level": 2,
     "metadata": {},
     "source": [
      "Miscellaneous : Bonus question"
     ]
    },
    {
     "cell_type": "markdown",
     "metadata": {},
     "source": [
      "How did Duncan download the data for use in this homework ? \n",
      "<http://www.transtats.bts.gov/DL_SelectFields.asp?Table_ID=236>"
     ]
    },
    {
     "cell_type": "markdown",
     "metadata": {},
     "source": [
      "Short answer: download & start reading Duncan's new book from P.333 of  <http://link.springer.com/book/10.1007%2F978-1-4614-7900-0>\n",
      "\n",
      "Long answer: I could guesstimate how to fill in the dynamic form on that website with some scripts and pull the links to those forms for downloading the data. But I will just get back to working on the other parts of the homework... \n",
      "\n"
     ]
    },
    {
     "cell_type": "heading",
     "level": 1,
     "metadata": {},
     "source": [
      "Actual code: "
     ]
    },
    {
     "cell_type": "heading",
     "level": 2,
     "metadata": {},
     "source": [
      "Method 1: shell script to compute entire frequency table then use R to compute statistics"
     ]
    },
    {
     "cell_type": "markdown",
     "metadata": {},
     "source": [
      "(I do not like how the cat command messes with the indentation of my bash script but here it is)"
     ]
    },
    {
     "cell_type": "code",
     "collapsed": false,
     "input": [
      "!cat ../freq_count.sh"
     ],
     "language": "python",
     "metadata": {},
     "outputs": [
      {
       "output_type": "stream",
       "stream": "stdout",
       "text": [
        "#!/bin/bash\r\n",
        "\r\n",
        "#---------------------------------------------------------------------------\r\n",
        "# Author: Karen Ng\r\n",
        "# This script \r\n",
        "# * reads in airline csv data files \r\n",
        "# * finds the column that corresponds to delay time\r\n",
        "# * cut the column then count the frequencies of a certain delay time\r\n",
        "# * returns frequency count in files named 1.txt 2.txt etc. \r\n",
        "# * the frequency count files still has header and NA values mixed inside\r\n",
        "# * have to use R or other language to discard those \r\n",
        "# version 1: no growing arrays but have slow I/O \r\n",
        "#---------------------------------------------------------------------------\r\n",
        "\r\n",
        "shopt -s nullglob\r\n",
        "dir=\"./data\"\r\n",
        "# store all file names in a bash array\r\n",
        "files=( \"$dir\"/*.csv ) \r\n",
        "fileno=${#files[*]}\r\n",
        "\r\n",
        "# check for csv input error\r\n",
        "if [ ${fileno} -eq 0 ]; then\r\n",
        "\techo \"--------SHELL SCRIPT ERROR-----------------------------\"\r\n",
        "\techo \"ERROR: no suitable *.csv file found in $PWD/data\" \r\n",
        "\techo \"For this script to work, put *.csv files in $PWD/data\" \r\n",
        "\techo \"-------------------------------------------------------\"\r\n",
        "\texit 0;\r\n",
        "fi\r\n",
        "\r\n",
        "# loop through the files one by one\r\n",
        "for ((j=0; j < ${fileno}; j++));\r\n",
        "do \r\n",
        "\t# look at the header, split them by \",\" then store in array\r\n",
        "\tarr=($(head -1 ${files[$j]} | tr \",\" \"\\n\"))\r\n",
        "\tarrLen=${#arr[*]}\r\n",
        "\tcol=-99\r\n",
        "\r\n",
        "\t# loop through array of headers and count which column it is in  \r\n",
        "\tfor ((i=0; i < ${arrLen}; i++)); \r\n",
        "\tdo \r\n",
        "\t\tx=${arr[$i]}\r\n",
        "\t\tif [ $x == \"ArrDelay\" ] || [ $x == \"\\\"ARR_DELAY\\\"\" ]; then \r\n",
        "\t\t\t# definition of column count is off by 1 between bash array and cut \r\n",
        "\t\t\tcol=$i\r\n",
        "\t\t\t(( col += 1 ))\r\n",
        "\r\n",
        "\t\t\t# if it is a monthly csv, have to add two to the column count for the\r\n",
        "\t\t\t# column value to be fetched correctly by cut. \r\n",
        "\t\t\t# This is because some values in the monthly CSV contain commas\r\n",
        "\t\t\tif [ $x == \"\\\"ARR_DELAY\\\"\" ]; then \r\n",
        "\t\t\t\t(( col += 2 ))\r\n",
        "\t\t\tfi\r\n",
        "\r\n",
        "\t\t\tbreak\r\n",
        "\t\tfi\r\n",
        "\tdone\r\n",
        "\r\n",
        "\t#echo \"Writing the file-$j delay time to freq_count.txt\"\r\n",
        "\t# store the frequency count of all the csv files in one single file\r\n",
        "\t# possible time improvement: \r\n",
        "\t# use an array to hold these instead of writing it to a file first \r\n",
        "\t# the col-finding and the writing out takes around 1 min 8 s real time  \r\n",
        "\tif [ $j -eq 0 ]; then \r\n",
        "\t\tcut -d',' -f${col} ${files[$j]} > freq_count.txt \r\n",
        "\telse \r\n",
        "\t\tcut -d',' -f${col} ${files[$j]} >> freq_count.txt \r\n",
        "\tfi\r\n",
        "\r\n",
        "done\r\n",
        "\r\n",
        "# pipe the content of frequency count to sed \r\n",
        "# use sed to remove the trailing decimal places for some delay time entries\r\n",
        "# sort them then find unique counts \r\n",
        "# remove header --- could have just used grep -v  \r\n",
        "cat freq_count.txt | sed -E 's/([0-9]+)\\.00/\\1/g' |\\\r\n",
        "\tsort -n | uniq -c |\\\r\n",
        "\tsed -e '/ArrDelay/d' -e '/ARR_DEL15/d' \r\n",
        "\r\n",
        "# can output to a text file to check values \r\n",
        "#> sorted_freq.txt\r\n"
       ]
      }
     ],
     "prompt_number": 81
    },
    {
     "cell_type": "code",
     "collapsed": false,
     "input": [
      "!cat ../method1.R"
     ],
     "language": "python",
     "metadata": {},
     "outputs": [
      {
       "output_type": "stream",
       "stream": "stdout",
       "text": [
        "#----------------------------------------------------------------------\r\n",
        "# Author: Karen Ng \r\n",
        "# Purpose: \r\n",
        "# reads in a two column file with frequency of each entry and entry value\r\n",
        "#---------------------------------------------------------------------\r\n",
        "\r\n",
        "run <- function(){\r\n",
        "  col.names <- c('freq', 'delay')\r\n",
        "  print(\"First method: compute_stat.R: \")\r\n",
        "  print(\"computing and reading in sorted frequency table from bash script\")\r\n",
        "  print(\"This takes ~5 mins for a 3.5 GHz machine with sufficient RAM\")\r\n",
        "  # call the shell script for cutting columns and doing frequency count \r\n",
        "  DF <- try(read.table(pipe(\"./freq_count.sh\"), col.names = col.names, \r\n",
        "                            fill = TRUE), silent=TRUE)\r\n",
        "  if (class(DF) == \"try-error\"){\r\n",
        "    print(\"ERROR: failed to read in $PWD/data/*.csv\") \r\n",
        "    print(\"USAGE: place data in $PWD/data/*.csv for this script to work\")\r\n",
        "    q(\"no\", 1, FALSE)\r\n",
        "  }\r\n",
        "  # REMOVE NAN!!! \r\n",
        "  DF <- na.omit(DF)\r\n",
        "\r\n",
        "  print(\"compute_stat.R\")\r\n",
        "  print(\"compute_stat.R: computing total frequencies\")\r\n",
        "  w.total <- sum(DF[['freq']])  \r\n",
        "  print(\"total number of valid total frequency count\")\r\n",
        "  print(w.total)\r\n",
        "\r\n",
        "  print(\"compute_stat.R: computing mean\")\r\n",
        "  t.mean <- sum(DF[['freq']] * ( DF[['delay']] / w.total), na.rm = TRUE)\r\n",
        "\r\n",
        "  print(\"compute_stat.R: computing median\")\r\n",
        "  i <- 1\r\n",
        "  Sum <- DF[['freq']][i]\r\n",
        "  medianFreqCount <- floor(w.total / 2) \r\n",
        "  ## sorry don't know better than to write a loop...\r\n",
        "  while(Sum < medianFreqCount) { \r\n",
        "    i <- i + 1 \r\n",
        "    # this vectorized operation \r\n",
        "    Sum <- sum(DF[['freq']][1:i], na.rm = TRUE)\r\n",
        "    # is faster than \r\n",
        "    ## if ( !is.na(DF[['freq']][i]) ) {\r\n",
        "    ##   Sum <- Sum + DF[['freq']][i] \r\n",
        "    ## }\r\n",
        "  }\r\n",
        "  ## check for corner case:  \r\n",
        "  ## or else there the median will may be off  \r\n",
        "  print(\"compute_stat.R: computing standard dev.\")\r\n",
        "  if( Sum == medianFreqCount &&  w.total %% 2 == 0){\r\n",
        "    # print(\"going through special case\")\r\n",
        "    t.median <- (DF[['delay']][i] + DF[['delay']][i+1])/2   \r\n",
        "  }else{\r\n",
        "    t.median <- DF[['delay']][i]\r\n",
        "  }\r\n",
        "\r\n",
        "  # after reading Jook Cook 's entry on computation of std. dev\r\n",
        "  # I decide to go with the (two-pass) direct method  because this can be \r\n",
        "  # written entirely in vectorized form\r\n",
        "  std.dev <- sqrt(sum(DF[['freq']] * (DF[['delay']] - t.mean) ^ 2 / (w.total-1))) \r\n",
        "  results1 <- c(t.mean, t.median, std.dev)\r\n",
        "  #print(results)\r\n",
        "  results1\r\n",
        "}\r\n",
        "\r\n",
        "time.method1 <- system.time(results1 <- run())\r\n",
        "save(results1, time.method1, file=\"results1.rda\")\r\n"
       ]
      }
     ],
     "prompt_number": 82
    },
    {
     "cell_type": "heading",
     "level": 2,
     "metadata": {},
     "source": [
      "Method 2: Python + Pandas + Numpy (calling a compiled language) "
     ]
    },
    {
     "cell_type": "code",
     "collapsed": false,
     "input": [
      "!cat ../compute_stat.py"
     ],
     "language": "python",
     "metadata": {},
     "outputs": [
      {
       "output_type": "stream",
       "stream": "stdout",
       "text": [
        "#!/usr/bin/env python\r\n",
        "\r\n",
        "import pandas as pd\r\n",
        "import numpy as np\r\n",
        "\r\n",
        "data_path = \"./data/\"\r\n",
        "\r\n",
        "# First read in the data from 1987 to 2007\r\n",
        "year = [ str(i) for i in range(1987,2008) ]\r\n",
        "# create empty dataframe\r\n",
        "delay1 = pd.DataFrame()\r\n",
        "# loop through the year-by-year csvs\r\n",
        "for yr in year:\r\n",
        "    # read in relevant column from csv file using pandas\r\n",
        "    file = yr +'.csv'\r\n",
        "    temp = pd.read_csv(data_path + file, usecols=[\"ArrDelay\"])\r\n",
        "    # append the dataframes - this is done by reference not by value\r\n",
        "    delay1 = delay1.append(temp)\r\n",
        "    print 'appending '+ file + ' - total lines = ' + \\\r\n",
        "            '{0}'.format(delay1.shape[0])\r\n",
        "\r\n",
        "# create another empty dataframe for handling month by month csv\r\n",
        "delay2 = pd.DataFrame()\r\n",
        "year = [ str(i) for i in range(2008, 2013) ]\r\n",
        "month = ['January','February', 'March', 'April', 'May', 'June', 'July',\r\n",
        "         'August','September', 'October', 'November', 'December']\r\n",
        "# loop through all the month-by-montyh csv\r\n",
        "for yr in year:\r\n",
        "    for mth in month:\r\n",
        "        file = yr + '_' + mth + '.csv'\r\n",
        "        # tell pandas to read only the relevant column in the csv\r\n",
        "        temp = pd.read_csv(data_path + file, usecols=[\"ARR_DELAY\"])\r\n",
        "        # append them to the dataframe by reference\r\n",
        "        delay2 = delay2.append(temp)\r\n",
        "        print 'appending ' + file + ' - total lines = ' + \\\r\n",
        "            '{0}'.format(delay2.shape[0] + delay1.shape[0])\r\n",
        "\r\n",
        "# hackish way to remove the column name of the dataframe to append\r\n",
        "# the two types of csv columns together\r\n",
        "# so I can compute the statistics in one pass later on\r\n",
        "delay1 = np.array(delay1)\r\n",
        "delay2 = np.array(delay2)\r\n",
        "delay = np.append(delay1, delay2)\r\n",
        "delay = pd.DataFrame(delay)\r\n",
        "print 'total number of valid lines = {0}'.format(delay.dropna().shape[0])\r\n",
        "\r\n",
        "# note that pandas ignores nans automatically while computing stats\r\n",
        "#print 'mean = {0} \\n'.format(delay[0].mean()) +\\\r\n",
        "#    'median = {0} \\n'.format(delay[0].median()) +\\\r\n",
        "#    'std. dev. = {0}\\n'.format(delay[0].std())\r\n",
        "\r\n",
        "print 'saving to results2.txt'\r\n",
        "f = open('results2.txt', 'w')\r\n",
        "f.write('mean = {0}\\n'.format(delay[0].mean()))\r\n",
        "f.write('median = {0}\\n'.format(delay[0].median()))\r\n",
        "f.write('std = {0}\\n'.format(delay[0].std()))\r\n",
        "f.close()\r\n"
       ]
      }
     ],
     "prompt_number": 83
    },
    {
     "cell_type": "markdown",
     "metadata": {},
     "source": [
      "In this python code I don't even have to do exception handling since Pandas is so smart."
     ]
    },
    {
     "cell_type": "code",
     "collapsed": false,
     "input": [
      "!cat ../method2.R"
     ],
     "language": "python",
     "metadata": {},
     "outputs": [
      {
       "output_type": "stream",
       "stream": "stdout",
       "text": [
        "#----------------------------------------------------------------------\r\n",
        "# Author: Karen Ng \r\n",
        "# Purpose: \r\n",
        "# R wrapper around python code so there would be consistent profiling \r\n",
        "#---------------------------------------------------------------------\r\n",
        "time.method2 <- system.time(system(\"./compute_stat.py\"))\r\n",
        "# read in results from python script\r\n",
        "con = file(\"./results2.txt\",\"r\")\r\n",
        "results2 <- readLines(con)\r\n",
        "save(results2, time.method2, file=\"results2.rda\")\r\n",
        "\r\n"
       ]
      }
     ],
     "prompt_number": 84
    },
    {
     "cell_type": "heading",
     "level": 2,
     "metadata": {},
     "source": [
      "Method 3: (NotSo)FastCSVSample"
     ]
    },
    {
     "cell_type": "markdown",
     "metadata": {},
     "source": [
      "In this method I forked Duncan's FastCSVSample R package and added some R code (which might have made it not so fast). \n",
      "\n",
      "Since we are sampling from files with quite different sizes, it is important that we sample approximately a fixed percentage of lines. "
     ]
    },
    {
     "cell_type": "code",
     "collapsed": false,
     "input": [
      "!cat ../method3.R"
     ],
     "language": "python",
     "metadata": {},
     "outputs": [
      {
       "output_type": "stream",
       "stream": "stdout",
       "text": [
        "#----------------------------------------------------------------------\r\n",
        "# Author: Karen Ng <karenyng@ucdavis.edu>\r\n",
        "# Method 3.R \r\n",
        "# Purpose: test what percentage we need to sample for us to be able to \r\n",
        "# compute statistics that is close enough to those of an exact approach\r\n",
        "#----------------------------------------------------------------------\r\n",
        "require(NotSoFastCSVSample)\r\n",
        "\r\n",
        "run <- function()\r\n",
        "{\r\n",
        "  # initialize some options \r\n",
        "  dataDir <- \"./data/\"\r\n",
        "  samplePercent <- .01\r\n",
        "  files <- list.files(path = dataDir , pattern = \"*.csv\")\r\n",
        "\r\n",
        "  # can actually run these in parallel by splitting the files \r\n",
        "  # in half for a dual core machine and have each cpu run half of the files \r\n",
        "\r\n",
        "  # create empty dataframe to hold data ... \r\n",
        "  # this might be stupid but I don't care I want to be done i want to be done\r\n",
        "  for(i in 1:length(files)){\r\n",
        "    filepath <- paste(dataDir, files[i], sep = \"\")\r\n",
        "    filelength <- getNumLines(filepath)\r\n",
        "    sampleNo <- as.integer(floor(filelength * samplePercent)) \r\n",
        "\r\n",
        "    # try to tell the month-by-month csv apart from the year-by-year csv\r\n",
        "\r\n",
        "    if (grepl(\"([0-9_]+)([A-Za-z]+).csv\", files[i]))\r\n",
        "    {\r\n",
        "      print(paste(\"going through mnth-by-mnth csv\", files[i]))\r\n",
        "      col.Name <- \"\\\"ARR_DELAY\\\"\"\r\n",
        "    }\r\n",
        "    else \r\n",
        "    {\r\n",
        "      print(paste(\"going through yr-by-yr csv\", files[i]))\r\n",
        "      col.Name <- \"ArrDelay\"\r\n",
        "    }\r\n",
        "    # kluegy way of suppressing warnings about NAs ...\r\n",
        "    Iduncare <- capture.output(temp<-csvSample(filepath, n = sampleNo, \r\n",
        "                      colName = col.Name))\r\n",
        "\r\n",
        "    # create a dataframe for appending later files \r\n",
        "    # if this is the first file being processed \r\n",
        "    if(i == 1)\r\n",
        "    {\r\n",
        "      data <- temp\r\n",
        "    }\r\n",
        "    else\r\n",
        "    {\r\n",
        "      data <- c(data, temp)\r\n",
        "    }\r\n",
        "  }\r\n",
        "  results3 <- c(mean(data, na.rm = T), \r\n",
        "                median(data, na.rm =T), \r\n",
        "                sd(data, na.rm=T))\r\n",
        "}\r\n",
        "\r\n",
        "time.method3 <- system.time(results3 <- run())\r\n",
        "save(results3, time.method3, file=\"results3.rda\")\r\n",
        "\r\n",
        "\r\n"
       ]
      }
     ],
     "prompt_number": 85
    },
    {
     "cell_type": "code",
     "collapsed": false,
     "input": [
      "!cat ../NotSoFastCSVSample/R/csvSample.R"
     ],
     "language": "python",
     "metadata": {},
     "outputs": [
      {
       "output_type": "stream",
       "stream": "stdout",
       "text": [
        "\r\n",
        "#@example  tt = csvSample(\"~/Data/Airline/Airlines/2002.csv\", 100)\r\n",
        "#          read.csv(textConnection(tt), header = FALSE)\r\n",
        "csvSample =\r\n",
        "function(file, n, rows = sample(1:numRows, n),\r\n",
        "         numRows = getNumLines(file),\r\n",
        "         randomize = FALSE, header = TRUE, colName = NULL)\r\n",
        "{\r\n",
        "  file = path.expand(file)\r\n",
        "  if(!file.exists(file))\r\n",
        "    stop(\"file does not exist\")\r\n",
        "\r\n",
        "  rows = sort(as.integer(rows))\r\n",
        "  if(header)\r\n",
        "    rows = rows + 1L\r\n",
        "\r\n",
        "  ans = .Call(\"R_csv_sample\", file, rows)\r\n",
        "  names(ans) = rows\r\n",
        "\r\n",
        "  if(header & !is.null(colName))\r\n",
        "    ans <- getCol(file, colName, ans)\r\n",
        "\r\n",
        "  if(randomize)\r\n",
        "    sample(ans)\r\n",
        "  else\r\n",
        "    ans\r\n",
        "}\r\n",
        "\r\n",
        "getNumLines =\r\n",
        "function(file)\r\n",
        "{\r\n",
        "  txt = system(sprintf(\"wc -l %s\", file), intern = TRUE)\r\n",
        "  as.integer(gsub(\"^ ?([0-9]+) .*\", \"\\\\1\", txt))\r\n",
        "}\r\n",
        "\r\n",
        "getColNum = \r\n",
        "function(file, colName)\r\n",
        "{ \r\n",
        "  colNum <- -99L\r\n",
        "  csvHeader <- system(sprintf('head -1 %s | tr \",\" \"\\n\"', file), \r\n",
        "                      intern = TRUE)\r\n",
        "  for(i in 1:length(csvHeader))\r\n",
        "  {\r\n",
        "    if(csvHeader[[i]] == colName)\r\n",
        "    # not sure if this is the best way to do string comparison in R\r\n",
        "    #if(grepl(csvHeader[[i]], colName) & !grepl(\"^$\", csvHeader[[i]]))\r\n",
        "    {\r\n",
        "      colNum <- i \r\n",
        "      #print(paste(\"found \", colName, \" at column\", colNum))\r\n",
        "      break\r\n",
        "    }\r\n",
        "  }\r\n",
        "  if(colNum == -99L)\r\n",
        "    stop(paste(colName, \"does not exist in the csv header\"))\r\n",
        "\r\n",
        "  colNum\r\n",
        "}\r\n",
        "\r\n",
        "getCol = \r\n",
        "function(file, colName, ans)\r\n",
        "{\r\n",
        "  colNum <- getColNum(file, colName)  \r\n",
        "  ans <- extractCol(colNum, ans, colName) \r\n",
        "}\r\n",
        "\r\n",
        "extractCol=\r\n",
        "function(colNum, ans, colName)\r\n",
        "# have not found time to write a fancy one that would match the double quotes \r\n",
        "# in the csv intelligently\r\n",
        "# if there is time, should write one that compares consecutive elements \r\n",
        "# in the split list to see if \\\" and \\\" has been split between two elements\r\n",
        "# then join them back together\r\n",
        "# ideally this should also be written in C or C++ for speed \r\n",
        "{\r\n",
        "  splitAns <- strsplit(ans, \",\")\r\n",
        "  if (colName == '\\\"ARR_DELAY\\\"') \r\n",
        "  {\r\n",
        "    splitAns <- sapply(splitAns, \"[\", c(colNum+2L)) \r\n",
        "    splitAns <- gsub(\"*NA*\",\"NaN\", splitAns) \r\n",
        "  }\r\n",
        "  else if(colName == \"ArrDelay\")\r\n",
        "  {\r\n",
        "    splitAns <- sapply(splitAns, \"[\", c(colNum)) \r\n",
        "    splitAns <- gsub(\"\\\"([-0-9]+)\\\"\",\"\\\\1\", splitAns) \r\n",
        "    # replace all the blank entries with NaN\r\n",
        "    splitAns <- gsub(\"^$\",\"NaN\", splitAns) \r\n",
        "  } \r\n",
        "  \r\n",
        "  # trying to make R stop complaining about NAs introduced by coercion\r\n",
        "  #splitAns <- as.data.frame(splitAns)\r\n",
        "  #splitAns <- na.omit(splitAns)\r\n",
        "  splitAns <- sapply(splitAns, as.integer)\r\n",
        "}\r\n"
       ]
      }
     ],
     "prompt_number": 86
    }
   ],
   "metadata": {}
  }
 ]
}