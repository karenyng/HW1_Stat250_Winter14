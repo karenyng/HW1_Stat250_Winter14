{
 "metadata": {
  "name": ""
 },
 "nbformat": 3,
 "nbformat_minor": 0,
 "worksheets": [
  {
   "cells": [
    {
     "cell_type": "code",
     "collapsed": false,
     "input": [
      "%autosave 60\n",
      "import pandas as pd\n",
      "import rpy2\n",
      "import matplotlib.pyplot as plt"
     ],
     "language": "python",
     "metadata": {},
     "outputs": [
      {
       "javascript": [
        "IPython.notebook.set_autosave_interval(60000)"
       ],
       "metadata": {},
       "output_type": "display_data"
      },
      {
       "output_type": "stream",
       "stream": "stdout",
       "text": [
        "Autosaving every 60 seconds\n"
       ]
      }
     ],
     "prompt_number": 14
    },
    {
     "cell_type": "heading",
     "level": 2,
     "metadata": {},
     "source": [
      "Run bash script from python"
     ]
    },
    {
     "cell_type": "code",
     "collapsed": false,
     "input": [
      "!time ./exam_col.sh "
     ],
     "language": "python",
     "metadata": {},
     "outputs": [
      {
       "output_type": "stream",
       "stream": "stdout",
       "text": [
        "0.28user 0.02system 0:00.32elapsed 93%CPU (0avgtext+0avgdata 1572maxresident)k\r\n",
        "8inputs+7096outputs (0major+1635minor)pagefaults 0swaps\r\n"
       ]
      }
     ],
     "prompt_number": 2
    },
    {
     "cell_type": "heading",
     "level": 2,
     "metadata": {},
     "source": [
      "Check the first type of csv file "
     ]
    },
    {
     "cell_type": "code",
     "collapsed": false,
     "input": [
      "%time data = pd.read_csv('./data_subset/1987.csv')"
     ],
     "language": "python",
     "metadata": {},
     "outputs": [
      {
       "output_type": "stream",
       "stream": "stdout",
       "text": [
        "CPU times: user 2.08 s, sys: 144 ms, total: 2.23 s\n",
        "Wall time: 2.23 s\n"
       ]
      }
     ],
     "prompt_number": 16
    },
    {
     "cell_type": "markdown",
     "metadata": {},
     "source": [
      "Pandas actually reads in the csv file quite quickly. "
     ]
    },
    {
     "cell_type": "code",
     "collapsed": false,
     "input": [
      "print 'mean is {0}'.format(data['ArrDelay'].mean())"
     ],
     "language": "python",
     "metadata": {},
     "outputs": [
      {
       "output_type": "stream",
       "stream": "stdout",
       "text": [
        "mean is 9.44669904977\n"
       ]
      }
     ],
     "prompt_number": 4
    },
    {
     "cell_type": "markdown",
     "metadata": {},
     "source": [
      "Check the fetched csv column by my bash script"
     ]
    },
    {
     "cell_type": "code",
     "collapsed": false,
     "input": [
      "%time col = pd.read_table('col0.txt')\n",
      "col['ArrDelay'].mean()"
     ],
     "language": "python",
     "metadata": {},
     "outputs": [
      {
       "output_type": "stream",
       "stream": "stdout",
       "text": [
        "CPU times: user 84 ms, sys: 0 ns, total: 84 ms\n",
        "Wall time: 80.5 ms\n"
       ]
      },
      {
       "metadata": {},
       "output_type": "pyout",
       "prompt_number": 5,
       "text": [
        "9.4466990497746686"
       ]
      }
     ],
     "prompt_number": 5
    },
    {
     "cell_type": "heading",
     "level": 2,
     "metadata": {},
     "source": [
      "Check the second type of csv file"
     ]
    },
    {
     "cell_type": "code",
     "collapsed": false,
     "input": [
      "data = pd.read_csv('./data_subset/2009_May.csv')\n",
      "data['ARR_DELAY'].mean()"
     ],
     "language": "python",
     "metadata": {},
     "outputs": [],
     "prompt_number": 39
    },
    {
     "cell_type": "markdown",
     "metadata": {},
     "source": [
      "Check the fetched csv column by my bash script"
     ]
    },
    {
     "cell_type": "code",
     "collapsed": false,
     "input": [
      "%time col = pd.read_table('col1.txt', names=['ARR_DELAY'], skiprows=1)\n",
      "%time col['ARR_DELAY'].mean()"
     ],
     "language": "python",
     "metadata": {},
     "outputs": [
      {
       "output_type": "stream",
       "stream": "stdout",
       "text": [
        "CPU times: user 44 ms, sys: 0 ns, total: 44 ms\n",
        "Wall time: 42.8 ms\n",
        "CPU times: user 4 ms, sys: 0 ns, total: 4 ms\n",
        "Wall time: 3.08 ms\n"
       ]
      },
      {
       "metadata": {},
       "output_type": "pyout",
       "prompt_number": 13,
       "text": [
        "2.1449394086565747"
       ]
      }
     ],
     "prompt_number": 13
    },
    {
     "cell_type": "markdown",
     "metadata": {},
     "source": [
      "The two agree. Life is good."
     ]
    },
    {
     "cell_type": "heading",
     "level": 3,
     "metadata": {},
     "source": [
      "Now we can also do this in R just for the fun of it"
     ]
    },
    {
     "cell_type": "code",
     "collapsed": false,
     "input": [
      "import rpy2.robjects as robjects"
     ],
     "language": "python",
     "metadata": {},
     "outputs": [],
     "prompt_number": 9
    },
    {
     "cell_type": "code",
     "collapsed": false,
     "input": [
      "%time df = robjects.r('''DF <- read.csv(\"./data_subset/2009_May.csv\")''')"
     ],
     "language": "python",
     "metadata": {},
     "outputs": [
      {
       "output_type": "stream",
       "stream": "stdout",
       "text": [
        "CPU times: user 15.9 s, sys: 88 ms, total: 15.9 s\n",
        "Wall time: 16 s\n"
       ]
      }
     ],
     "prompt_number": 16
    },
    {
     "cell_type": "code",
     "collapsed": false,
     "input": [
      "%time robjects.r('''mean(DF[['ARR_DELAY']], na.rm = TRUE)''')"
     ],
     "language": "python",
     "metadata": {},
     "outputs": [
      {
       "output_type": "stream",
       "stream": "stdout",
       "text": [
        "CPU times: user 16 ms, sys: 0 ns, total: 16 ms\n",
        "Wall time: 12.4 ms\n"
       ]
      },
      {
       "metadata": {},
       "output_type": "pyout",
       "prompt_number": 11,
       "text": [
        "<FloatVector - Python:0x915fc20 / R:0xd5d3bc8>\n",
        "[2.144939]"
       ]
      }
     ],
     "prompt_number": 11
    },
    {
     "cell_type": "markdown",
     "metadata": {},
     "source": [
      "R also gives the same answer! But calling R from Python is clearly not as fast"
     ]
    },
    {
     "cell_type": "heading",
     "level": 2,
     "metadata": {},
     "source": [
      "Trying to see if the sorted frequency table has any bug"
     ]
    },
    {
     "cell_type": "code",
     "collapsed": false,
     "input": [
      "a = pd.read_table(\"sorted_freq.txt\", names = ['col']) \n",
      "c = []\n",
      "for i in range(a.shape[0]):\n",
      "    b = a['col'][i].split()\n",
      "    if b[1] != 'NA' and b[1]!='ArrDelay':\n",
      "        c.append([float(b[0]), float(b[1])])\n",
      "c = np.array(c).transpose()"
     ],
     "language": "python",
     "metadata": {},
     "outputs": [],
     "prompt_number": 115
    },
    {
     "cell_type": "code",
     "collapsed": false,
     "input": [
      "delay = c[1]\n",
      "freq = c[0]\n",
      "\n",
      "mean = (delay*freq) / freq.sum()\n",
      "mean.sum()"
     ],
     "language": "python",
     "metadata": {},
     "outputs": [
      {
       "metadata": {},
       "output_type": "pyout",
       "prompt_number": 116,
       "text": [
        "9.4474744746283132"
       ]
      }
     ],
     "prompt_number": 116
    },
    {
     "cell_type": "code",
     "collapsed": false,
     "input": [
      "freq.sum()"
     ],
     "language": "python",
     "metadata": {},
     "outputs": [
      {
       "metadata": {},
       "output_type": "pyout",
       "prompt_number": 117,
       "text": [
        "1288326.0"
       ]
      }
     ],
     "prompt_number": 117
    },
    {
     "cell_type": "markdown",
     "metadata": {},
     "source": [
      "Oh no something went wrong"
     ]
    },
    {
     "cell_type": "code",
     "collapsed": false,
     "input": [],
     "language": "python",
     "metadata": {},
     "outputs": []
    }
   ],
   "metadata": {}
  }
 ]
}